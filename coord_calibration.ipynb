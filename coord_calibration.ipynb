{
 "cells": [
  {
   "cell_type": "markdown",
   "id": "baaaca9516dd3645",
   "metadata": {},
   "source": [
    "## Import Libraries"
   ]
  },
  {
   "cell_type": "code",
   "id": "5473835140d6da8b",
   "metadata": {
    "ExecuteTime": {
     "end_time": "2024-08-09T16:40:22.873083Z",
     "start_time": "2024-08-09T16:40:22.146267Z"
    }
   },
   "source": [
    "from utils import ArmHandler\n",
    "from time import sleep\n",
    "import numpy as np\n",
    "import cv2\n",
    "from random import randint"
   ],
   "outputs": [
    {
     "name": "stdout",
     "output_type": "stream",
     "text": [
      "SDK_VERSION: 1.13.8\n"
     ]
    }
   ],
   "execution_count": 2
  },
  {
   "cell_type": "code",
   "execution_count": 2,
   "id": "initial_id",
   "metadata": {},
   "outputs": [
    {
     "name": "stdout",
     "output_type": "stream",
     "text": [
      "SDK_VERSION: 1.13.30\n",
      "ROBOT_IP: 192.168.1.155, VERSION: v2.2.0, PROTOCOL: V1, DETAIL: 6,9,LI1006,DL1000,v2.2.0, TYPE1300: [0, 0]\n",
      "change protocol identifier to 3\n"
     ]
    },
    {
     "data": {
      "text/plain": [
       "0"
      ]
     },
     "execution_count": 2,
     "metadata": {},
     "output_type": "execute_result"
    }
   ],
   "source": [
    "arm = ArmHandler()"
   ]
  },
  {
   "cell_type": "markdown",
   "id": "fb4d5821dfb625c8",
   "metadata": {},
   "source": [
    "## Define Functions"
   ]
  },
  {
   "cell_type": "code",
   "id": "870ebbd87cef8915",
   "metadata": {
    "ExecuteTime": {
     "end_time": "2024-08-09T16:40:26.922655Z",
     "start_time": "2024-08-09T16:40:26.909599Z"
    }
   },
   "source": [
    "def mouse_callback(event: int, x: int, y: int, flags, param):\n",
    "    \"\"\"\n",
    "    Callback function for mouse events, Set the global variable point to the current pixel coordinates, (inverted Px,Py)\n",
    "    \"\"\"\n",
    "    if event == cv2.EVENT_LBUTTONDOWN:\n",
    "        global point\n",
    "        point = (y, x)\n",
    "\n",
    "\n",
    "def add_rows(matrix, row):\n",
    "    if matrix.size == 0:\n",
    "        return np.array(row).reshape(1, -1)\n",
    "    else:\n",
    "        return np.vstack((matrix, np.array(row)))"
   ],
   "outputs": [],
   "execution_count": 3
  },
  {
   "cell_type": "markdown",
   "id": "272827d2a71dac84",
   "metadata": {},
   "source": [
    "## Start Video Capture"
   ]
  },
  {
   "cell_type": "code",
   "execution_count": 5,
   "id": "43e863fc14c9790e",
   "metadata": {
    "ExecuteTime": {
     "end_time": "2024-08-09T08:17:27.648575Z",
     "start_time": "2024-08-09T08:16:28.553151Z"
    }
   },
   "outputs": [],
   "source": [
    "cap = cv2.VideoCapture(1)\n",
    "cap.set(3, 640)\n",
    "cap.set(4, 480)\n",
    "cv2.namedWindow(\"Video\")\n",
    "cv2.setMouseCallback(\"Video\", mouse_callback)"
   ]
  },
  {
   "cell_type": "markdown",
   "id": "2320a6dbc247c2d8",
   "metadata": {},
   "source": [
    "## Collect Data Points"
   ]
  },
  {
   "cell_type": "code",
   "execution_count": 8,
   "id": "b83f4bdfa8c95912",
   "metadata": {
    "ExecuteTime": {
     "end_time": "2024-08-09T08:22:07.177257Z",
     "start_time": "2024-08-09T08:18:05.300697Z"
    }
   },
   "outputs": [
    {
     "name": "stdout",
     "output_type": "stream",
     "text": [
      "Robot: (259, 221), Pixel: (160, 471)\n",
      "Robot: (245, 235), Pixel: (137, 490)\n",
      "Robot: (266, 277), Pixel: (168, 553)\n",
      "Robot: (245, 159), Pixel: (142, 375)\n",
      "Robot: (273, 139), Pixel: (187, 345)\n",
      "Robot: (227, 251), Pixel: (111, 513)\n",
      "Robot: (265, 203), Pixel: (172, 444)\n",
      "Robot: (266, 148), Pixel: (177, 359)\n",
      "Robot: (232, 110), Pixel: (127, 300)\n",
      "Robot: (267, 111), Pixel: (178, 305)\n",
      "Robot: (252, 154), Pixel: (155, 368)\n",
      "Robot: (246, 204), Pixel: (144, 443)\n",
      "Robot: (261, 38), Pixel: (174, 192)\n",
      "Robot: (244, 5), Pixel: (154, 144)\n",
      "Robot: (252, 111), Pixel: (158, 301)\n",
      "Robot: (269, 164), Pixel: (181, 382)\n",
      "Robot: (236, 14), Pixel: (138, 156)\n",
      "Robot: (258, 219), Pixel: (160, 468)\n",
      "Robot: (215, 50), Pixel: (106, 210)\n",
      "Robot: (264, 47), Pixel: (182, 204)\n",
      "Robot: (232, 249), Pixel: (121, 511)\n",
      "Robot: (229, 164), Pixel: (119, 380)\n",
      "Robot: (217, 138), Pixel: (103, 338)\n",
      "Robot: (223, 30), Pixel: (119, 180)\n"
     ]
    }
   ],
   "source": [
    "f = open(\"calibration_data/points.txt\", \"a\")\n",
    "for i in range(25):\n",
    "    arm.pickup_and_wait()\n",
    "    bot_x, bot_y = (randint(215, 275), randint(0, 300))\n",
    "    arm.place_block_on(bot_x, bot_y, z=27)\n",
    "\n",
    "    point: tuple[int, int] | None = None\n",
    "\n",
    "    while not point:\n",
    "        ret, frame = cap.read()\n",
    "        cv2.imshow(\"Video\", frame)\n",
    "        if cv2.waitKey(1) & 0xFF == ord('q'):\n",
    "            break\n",
    "    if not point:  # If user exits the loop, point maybe None\n",
    "        break\n",
    "\n",
    "    print(f\"Robot: {(bot_x, bot_y)}, Pixel: {point}\")\n",
    "    f.write(f\"{(bot_x, bot_y)},{point}\\n\")\n",
    "f.close()"
   ]
  },
  {
   "cell_type": "markdown",
   "id": "15c92afc92c9438c",
   "metadata": {},
   "source": "## Process Data, and find the transformation matrix"
  },
  {
   "cell_type": "code",
   "id": "766c279c2ae718fc",
   "metadata": {
    "ExecuteTime": {
     "end_time": "2024-08-09T17:14:50.333152Z",
     "start_time": "2024-08-09T17:14:50.311893Z"
    }
   },
   "source": [
    "Rx = np.array([])\n",
    "Ry = np.array([])\n",
    "Px = np.array([])\n",
    "Py = np.array([])\n",
    "\n",
    "with open(\"calibration_data/points.txt\") as f:\n",
    "    for line in set(f.readlines()):\n",
    "        bot_coords, pixel_coords = eval(line)\n",
    "        Rx = add_rows(Rx, [bot_coords[0]])\n",
    "        Ry = add_rows(Ry, [bot_coords[1]])\n",
    "        Px = add_rows(Px, [pixel_coords[0]])  # ...(Px,[pixel_coords[0],1]) - old using no rotation assumption\n",
    "        Py = add_rows(Py, [pixel_coords[1]])  # ...(Py,[pixel_coords[1],1]) - old using no rotation assumption\n",
    "print(Rx.size)\n",
    "R = np.concatenate([Rx.T, Ry.T, np.ones(Rx.size).T.reshape(1, -1)], axis=0)\n",
    "P = np.concatenate([Px.T, Py.T, np.ones(Px.size).T.reshape(1, -1)], axis=0)\n",
    "W = R @ np.linalg.pinv(P)\n",
    "print(W)\n",
    "\n",
    "mx1, my1, c1, mx2, my2, c2 = map(lambda x: round(x, 16), (W[0, 0], W[0, 1], W[0, 2], W[1, 0], W[1, 1], W[1, 2]))\n",
    "\n",
    "print(f\"mx1,my1,cx1 = {mx1},{my1},{c1}\")\n",
    "print(f\"mx2,my2,cx2 = {mx2},{my2},{c2}\")\n",
    "\n",
    "# old using no rotation assumption\n",
    "# m1, c1 = np.linalg.pinv(Px) @ Rx\n",
    "# m2, c2 = np.linalg.pinv(Py) @ Ry\n",
    "# \n",
    "# m1, c1 = round(m1[0], 16), round(c1[0], 16)\n",
    "# m2, c2 = round(m2[0], 16), round(c2[0], 16)\n",
    "# print(f\"m1,c1 = {m1},{c1}\")\n",
    "# print(f\"m2,c2 = {m2},{c2}\")"
   ],
   "outputs": [
    {
     "name": "stdout",
     "output_type": "stream",
     "text": [
      "75\n",
      "[[ 6.69519094e-01  2.62044828e-02  1.38643046e+02]\n",
      " [-2.51056056e-02  6.59144881e-01 -8.48399853e+01]\n",
      " [-7.37257477e-18  1.16551734e-18  1.00000000e+00]]\n",
      "mx1,my1,cx1 = 0.6695190944873737,0.0262044827877249,138.64304597475132\n",
      "mx2,my2,cx2 = -0.0251056055985636,0.6591448809151397,-84.8399852824442\n"
     ]
    }
   ],
   "execution_count": 31
  },
  {
   "cell_type": "code",
   "id": "d1b32bb8432da0d2",
   "metadata": {
    "ExecuteTime": {
     "end_time": "2024-08-09T17:15:35.398845Z",
     "start_time": "2024-08-09T17:15:35.385290Z"
    }
   },
   "source": [
    "# Hand Calculated (2 blocks):\n",
    "# m1, c1 = 0.7251, 179.5495\n",
    "# m2, c2 = 0.6383, -82.3553\n",
    "# 10 blocks:\n",
    "# m1, c1 = 0.71108,179.96984\n",
    "# m2,c2 = 0.63734, -87.31099\n",
    "# 39 blocks:\n",
    "# m1,c1 = 0.56171, 197.02872\n",
    "# m2,c2 = 0.64017,-85.75084\n",
    "# 50 blocks:\n",
    "# m1, c1 = 0.54665, 198.17924\n",
    "# m2, c2 = 0.64072, -86.07211\n",
    "# Reposition - 50 blocks\n",
    "# m1, c1 = 0.6519, 150.83156\n",
    "# m2,c2 = 0.64737, -84.42875\n",
    "# Reposition - 50 blocks\n",
    "# m1, c1 = 0.6456, 151.74737\n",
    "# m2, c2 = 0.65968, -88.87191\n",
    "# Same - 75 blocks\n",
    "# m1, c1 = 0.6515, 150.83251\n",
    "# m2, c2 = 0.65973, -88.76217\n",
    "\n",
    "\n",
    "def pixel_to_world(px, py):\n",
    "    return mx1 * px + my1 * py + c1, mx2 * px + my2 * py + c2  # m1 * px + c1, m2 * py + c2 - old using no rotation assumption"
   ],
   "outputs": [],
   "execution_count": 33
  },
  {
   "cell_type": "code",
   "execution_count": 12,
   "id": "7852601589b8a420",
   "metadata": {
    "ExecuteTime": {
     "end_time": "2024-08-09T08:28:58.991603Z",
     "start_time": "2024-08-09T08:23:24.424374Z"
    }
   },
   "outputs": [
    {
     "name": "stdout",
     "output_type": "stream",
     "text": [
      "Pixel:  (135, 140)\n",
      "World: (238.78501, 3.600030000000004)\n",
      "Pixel:  (117, 196)\n",
      "World: (227.05801000000002, 40.544910000000016)\n",
      "Pixel:  (173, 189)\n",
      "World: (263.54201, 35.926800000000014)\n",
      "Pixel:  (174, 249)\n",
      "World: (264.19351, 75.51060000000001)\n",
      "Pixel:  (116, 260)\n",
      "World: (226.40651000000003, 82.76763000000003)\n",
      "Pixel:  (132, 310)\n",
      "World: (236.83051, 115.75413)\n",
      "Pixel:  (105, 358)\n",
      "World: (219.24001, 147.42117000000002)\n",
      "Pixel:  (114, 409)\n",
      "World: (225.10351000000003, 181.0674)\n",
      "Pixel:  (172, 392)\n",
      "World: (262.89051, 169.85199000000003)\n",
      "Pixel:  (179, 456)\n",
      "World: (267.45101, 212.07471)\n",
      "Pixel:  (121, 464)\n",
      "World: (229.66401000000002, 217.35255000000004)\n",
      "Pixel:  (128, 502)\n",
      "World: (234.22451, 242.42229)\n",
      "Pixel:  (96, 573)\n",
      "World: (213.37651, 289.2631200000001)\n",
      "Out of RANGE\n",
      "Pixel:  (110, 626)\n",
      "World: (222.49751, 324.22881000000007)\n",
      "Pixel:  (167, 585)\n",
      "World: (259.63301, 297.17988)\n",
      "Pixel:  (143, 544)\n",
      "World: (243.99701, 270.13095)\n",
      "Pixel:  (187, 220)\n",
      "World: (272.66301, 56.37843000000001)\n",
      "Pixel:  (105, 274)\n",
      "World: (219.24001, 92.00385)\n",
      "Pixel:  (185, 286)\n",
      "World: (271.36001, 99.92061000000001)\n",
      "Pixel:  (161, 385)\n",
      "World: (255.72401000000002, 165.23388000000003)\n",
      "Pixel:  (121, 400)\n",
      "World: (229.66401000000002, 175.12983)\n",
      "Pixel:  (82, 505)\n",
      "World: (204.25551000000002, 244.40148000000002)\n",
      "Out of RANGE\n",
      "Pixel:  (98, 575)\n",
      "World: (214.67951, 290.58258)\n",
      "Out of RANGE\n",
      "Pixel:  (180, 337)\n",
      "World: (268.10251, 133.56684)\n",
      "Pixel:  (85, 506)\n",
      "World: (206.21001, 245.06121000000005)\n",
      "Out of RANGE\n",
      "Pixel:  (100, 567)\n",
      "World: (215.98251, 285.30474000000004)\n",
      "Pixel:  (84, 508)\n",
      "World: (205.55851, 246.38067000000004)\n",
      "Out of RANGE\n",
      "Pixel:  (84, 503)\n",
      "World: (205.55851, 243.08202000000003)\n",
      "Out of RANGE\n",
      "Pixel:  (95, 506)\n",
      "World: (212.72501, 245.06121000000005)\n",
      "Out of RANGE\n",
      "Pixel:  (111, 502)\n",
      "World: (223.14901, 242.42229)\n"
     ]
    },
    {
     "ename": "KeyboardInterrupt",
     "evalue": "",
     "output_type": "error",
     "traceback": [
      "\u001B[1;31m---------------------------------------------------------------------------\u001B[0m",
      "\u001B[1;31mKeyboardInterrupt\u001B[0m                         Traceback (most recent call last)",
      "Cell \u001B[1;32mIn[12], line 9\u001B[0m\n\u001B[0;32m      6\u001B[0m     cv2\u001B[38;5;241m.\u001B[39mimshow(\u001B[38;5;124m\"\u001B[39m\u001B[38;5;124mVideo\u001B[39m\u001B[38;5;124m\"\u001B[39m, frame)\n\u001B[0;32m      8\u001B[0m     \u001B[38;5;66;03m# Break the loop if 'q' is pressed\u001B[39;00m\n\u001B[1;32m----> 9\u001B[0m     \u001B[38;5;28;01mif\u001B[39;00m \u001B[43mcv2\u001B[49m\u001B[38;5;241;43m.\u001B[39;49m\u001B[43mwaitKey\u001B[49m\u001B[43m(\u001B[49m\u001B[38;5;241;43m1\u001B[39;49m\u001B[43m)\u001B[49m \u001B[38;5;241m&\u001B[39m \u001B[38;5;241m0xFF\u001B[39m \u001B[38;5;241m==\u001B[39m \u001B[38;5;28mord\u001B[39m(\u001B[38;5;124m'\u001B[39m\u001B[38;5;124mq\u001B[39m\u001B[38;5;124m'\u001B[39m):\n\u001B[0;32m     10\u001B[0m         \u001B[38;5;28;01mbreak\u001B[39;00m\n\u001B[0;32m     11\u001B[0m \u001B[38;5;28;01melse\u001B[39;00m:\n",
      "\u001B[1;31mKeyboardInterrupt\u001B[0m: "
     ]
    }
   ],
   "source": [
    "point = None\n",
    "while True:\n",
    "    if point is None:\n",
    "        rx, ry = pixel_to_world(point[0], point[1])\n",
    "        print(\"Pixel: \", point)\n",
    "        print(f\"World: ({rx}, {ry})\")\n",
    "        if arm.pickup_block_from(rx, ry):\n",
    "            arm.place_block_on()\n",
    "        point = None\n",
    "\n",
    "    ret, frame = cap.read()\n",
    "    cv2.imshow(\"Video\", frame)\n",
    "    if cv2.waitKey(1) & 0xFF == ord('q'):\n",
    "        break"
   ]
  },
  {
   "cell_type": "code",
   "execution_count": 2,
   "id": "cd6d86ff69fb3ac3",
   "metadata": {
    "ExecuteTime": {
     "end_time": "2024-08-08T10:11:57.801548Z",
     "start_time": "2024-08-08T10:11:55.785802Z"
    }
   },
   "outputs": [
    {
     "data": {
      "text/plain": [
       "0"
      ]
     },
     "execution_count": 2,
     "metadata": {},
     "output_type": "execute_result"
    }
   ],
   "source": [
    "arm.disconnect()\n",
    "cap.release()\n",
    "cv2.destroyAllWindows()"
   ]
  }
 ],
 "metadata": {
  "kernelspec": {
   "display_name": "Python 3 (ipykernel)",
   "language": "python",
   "name": "python3"
  },
  "language_info": {
   "codemirror_mode": {
    "name": "ipython",
    "version": 3
   },
   "file_extension": ".py",
   "mimetype": "text/x-python",
   "name": "python",
   "nbconvert_exporter": "python",
   "pygments_lexer": "ipython3",
   "version": "3.12.4"
  }
 },
 "nbformat": 4,
 "nbformat_minor": 5
}
