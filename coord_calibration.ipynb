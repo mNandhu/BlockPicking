{
 "cells": [
  {
   "cell_type": "markdown",
   "id": "baaaca9516dd3645",
   "metadata": {},
   "source": [
    "## Import Libraries"
   ]
  },
  {
   "cell_type": "code",
   "id": "5473835140d6da8b",
   "metadata": {
    "ExecuteTime": {
     "end_time": "2024-08-10T03:46:11.385427Z",
     "start_time": "2024-08-10T03:46:10.762929Z"
    }
   },
   "source": [
    "from utils import ArmHandler\n",
    "from time import sleep\n",
    "import numpy as np\n",
    "import cv2\n",
    "from random import randint"
   ],
   "outputs": [
    {
     "name": "stdout",
     "output_type": "stream",
     "text": [
      "SDK_VERSION: 1.13.8\n"
     ]
    }
   ],
   "execution_count": 1
  },
  {
   "cell_type": "code",
   "id": "initial_id",
   "metadata": {
    "ExecuteTime": {
     "end_time": "2024-08-10T03:57:24.148382Z",
     "start_time": "2024-08-10T03:57:24.109431Z"
    }
   },
   "source": [
    "arm = ArmHandler()"
   ],
   "outputs": [
    {
     "name": "stdout",
     "output_type": "stream",
     "text": [
      "ROBOT_IP: 192.168.1.155, VERSION: v2.2.0, PROTOCOL: V1, DETAIL: 6,9,LI1006,DL1000,v2.2.0, TYPE1300: [0, 0]\n",
      "change protocol identifier to 3\n"
     ]
    }
   ],
   "execution_count": 15
  },
  {
   "cell_type": "markdown",
   "id": "fb4d5821dfb625c8",
   "metadata": {},
   "source": [
    "## Define Functions"
   ]
  },
  {
   "cell_type": "code",
   "id": "870ebbd87cef8915",
   "metadata": {
    "ExecuteTime": {
     "end_time": "2024-08-10T03:48:07.076638Z",
     "start_time": "2024-08-10T03:48:07.061984Z"
    }
   },
   "source": [
    "def mouse_callback(event: int, x: int, y: int, flags, param):\n",
    "    \"\"\"\n",
    "    Callback function for mouse events, Set the global variable point to the current pixel coordinates, (inverted Px,Py)\n",
    "    \"\"\"\n",
    "    if event == cv2.EVENT_LBUTTONDOWN:\n",
    "        global point\n",
    "        point = (y, x)\n",
    "\n",
    "\n",
    "def add_rows(matrix, row):\n",
    "    if matrix.size == 0:\n",
    "        return np.array(row).reshape(1, -1)\n",
    "    else:\n",
    "        return np.vstack((matrix, np.array(row)))"
   ],
   "outputs": [],
   "execution_count": 4
  },
  {
   "cell_type": "markdown",
   "id": "272827d2a71dac84",
   "metadata": {},
   "source": [
    "## Start Video Capture"
   ]
  },
  {
   "cell_type": "code",
   "id": "43e863fc14c9790e",
   "metadata": {
    "ExecuteTime": {
     "end_time": "2024-08-10T03:56:46.643406Z",
     "start_time": "2024-08-10T03:55:46.012127Z"
    }
   },
   "source": [
    "cap = cv2.VideoCapture(1)\n",
    "cap.set(3, 640)\n",
    "cap.set(4, 480)\n",
    "cv2.namedWindow(\"Video\")\n",
    "cv2.setMouseCallback(\"Video\", mouse_callback)"
   ],
   "outputs": [],
   "execution_count": 11
  },
  {
   "cell_type": "markdown",
   "id": "2320a6dbc247c2d8",
   "metadata": {},
   "source": [
    "## Collect Data Points"
   ]
  },
  {
   "cell_type": "code",
   "execution_count": 8,
   "id": "b83f4bdfa8c95912",
   "metadata": {
    "ExecuteTime": {
     "end_time": "2024-08-09T08:22:07.177257Z",
     "start_time": "2024-08-09T08:18:05.300697Z"
    }
   },
   "outputs": [
    {
     "name": "stdout",
     "output_type": "stream",
     "text": [
      "Robot: (259, 221), Pixel: (160, 471)\n",
      "Robot: (245, 235), Pixel: (137, 490)\n",
      "Robot: (266, 277), Pixel: (168, 553)\n",
      "Robot: (245, 159), Pixel: (142, 375)\n",
      "Robot: (273, 139), Pixel: (187, 345)\n",
      "Robot: (227, 251), Pixel: (111, 513)\n",
      "Robot: (265, 203), Pixel: (172, 444)\n",
      "Robot: (266, 148), Pixel: (177, 359)\n",
      "Robot: (232, 110), Pixel: (127, 300)\n",
      "Robot: (267, 111), Pixel: (178, 305)\n",
      "Robot: (252, 154), Pixel: (155, 368)\n",
      "Robot: (246, 204), Pixel: (144, 443)\n",
      "Robot: (261, 38), Pixel: (174, 192)\n",
      "Robot: (244, 5), Pixel: (154, 144)\n",
      "Robot: (252, 111), Pixel: (158, 301)\n",
      "Robot: (269, 164), Pixel: (181, 382)\n",
      "Robot: (236, 14), Pixel: (138, 156)\n",
      "Robot: (258, 219), Pixel: (160, 468)\n",
      "Robot: (215, 50), Pixel: (106, 210)\n",
      "Robot: (264, 47), Pixel: (182, 204)\n",
      "Robot: (232, 249), Pixel: (121, 511)\n",
      "Robot: (229, 164), Pixel: (119, 380)\n",
      "Robot: (217, 138), Pixel: (103, 338)\n",
      "Robot: (223, 30), Pixel: (119, 180)\n"
     ]
    }
   ],
   "source": [
    "f = open(\"calibration_data/points.txt\", \"a\")\n",
    "for i in range(25):\n",
    "    arm.pickup_and_wait()\n",
    "    bot_x, bot_y = (randint(215, 275), randint(0, 300))\n",
    "    arm.place_block_on(bot_x, bot_y, z=27)\n",
    "\n",
    "    point: tuple[int, int] | None = None\n",
    "\n",
    "    while not point:\n",
    "        ret, frame = cap.read()\n",
    "        cv2.imshow(\"Video\", frame)\n",
    "        if cv2.waitKey(1) & 0xFF == ord('q'):\n",
    "            break\n",
    "    if not point:  # If user exits the loop, point maybe None\n",
    "        break\n",
    "\n",
    "    print(f\"Robot: {(bot_x, bot_y)}, Pixel: {point}\")\n",
    "    f.write(f\"{(bot_x, bot_y)},{point}\\n\")\n",
    "f.close()"
   ]
  },
  {
   "cell_type": "markdown",
   "id": "15c92afc92c9438c",
   "metadata": {},
   "source": "## Process Data, and find the transformation matrix"
  },
  {
   "cell_type": "code",
   "id": "766c279c2ae718fc",
   "metadata": {
    "ExecuteTime": {
     "end_time": "2024-08-10T03:56:46.655415Z",
     "start_time": "2024-08-10T03:56:46.643406Z"
    }
   },
   "source": [
    "Rx = np.array([])\n",
    "Ry = np.array([])\n",
    "Px = np.array([])\n",
    "Py = np.array([])\n",
    "\n",
    "with open(\"calibration_data/points.txt\") as f:\n",
    "    for line in set(f.readlines()):\n",
    "        bot_coords, pixel_coords = eval(line)\n",
    "        Rx = add_rows(Rx, [bot_coords[0]])\n",
    "        Ry = add_rows(Ry, [bot_coords[1]])\n",
    "        Px = add_rows(Px, [pixel_coords[0]])  # ...(Px,[pixel_coords[0],1]) - old using no rotation assumption\n",
    "        Py = add_rows(Py, [pixel_coords[1]])  # ...(Py,[pixel_coords[1],1]) - old using no rotation assumption\n",
    "print(Rx.size)\n",
    "R = np.concatenate([Rx.T, Ry.T, np.ones(Rx.size).T.reshape(1, -1)], axis=0)\n",
    "P = np.concatenate([Px.T, Py.T, np.ones(Px.size).T.reshape(1, -1)], axis=0)\n",
    "W = R @ np.linalg.pinv(P)\n",
    "print(W)\n",
    "\n",
    "mx1, my1, c1, mx2, my2, c2 = map(lambda x: round(x, 10), (W[0, 0], W[0, 1], W[0, 2], W[1, 0], W[1, 1], W[1, 2]))\n",
    "\n",
    "print(f\"mx1,my1,c1 = {mx1},{my1},{c1}\")\n",
    "print(f\"mx2,my2,c2 = {mx2},{my2},{c2}\")\n",
    "\n",
    "# old using no rotation assumption\n",
    "\n",
    "# m1, c1 = np.linalg.pinv(Px) @ Rx\n",
    "# m2, c2 = np.linalg.pinv(Py) @ Ry\n",
    "# \n",
    "# m1, c1 = round(m1[0], 16), round(c1[0], 16)\n",
    "# m2, c2 = round(m2[0], 16), round(c2[0], 16)\n",
    "# print(f\"m1,c1 = {m1},{c1}\")\n",
    "# print(f\"m2,c2 = {m2},{c2}\")"
   ],
   "outputs": [
    {
     "name": "stdout",
     "output_type": "stream",
     "text": [
      "75\n",
      "[[ 6.69519094e-01  2.62044828e-02  1.38643046e+02]\n",
      " [-2.51056056e-02  6.59144881e-01 -8.48399853e+01]\n",
      " [-6.50521303e-19  6.77626358e-19  1.00000000e+00]]\n",
      "mx1,my1,cx1 = 0.6695190945,0.0262044828,138.6430459748\n",
      "mx2,my2,cx2 = -0.0251056056,0.6591448809,-84.8399852824\n"
     ]
    }
   ],
   "execution_count": 12
  },
  {
   "cell_type": "code",
   "id": "d1b32bb8432da0d2",
   "metadata": {
    "ExecuteTime": {
     "end_time": "2024-08-10T03:56:46.660432Z",
     "start_time": "2024-08-10T03:56:46.655415Z"
    }
   },
   "source": [
    "# Hand Calculated (2 blocks):\n",
    "# m1, c1 = 0.7251, 179.5495\n",
    "# m2, c2 = 0.6383, -82.3553\n",
    "# 10 blocks:\n",
    "# m1, c1 = 0.71108,179.96984\n",
    "# m2,c2 = 0.63734, -87.31099\n",
    "# 39 blocks:\n",
    "# m1,c1 = 0.56171, 197.02872\n",
    "# m2,c2 = 0.64017,-85.75084\n",
    "# 50 blocks:\n",
    "# m1, c1 = 0.54665, 198.17924\n",
    "# m2, c2 = 0.64072, -86.07211\n",
    "# Reposition - 50 blocks\n",
    "# m1, c1 = 0.6519, 150.83156\n",
    "# m2,c2 = 0.64737, -84.42875\n",
    "# Reposition - 50 blocks\n",
    "# m1, c1 = 0.6456, 151.74737\n",
    "# m2, c2 = 0.65968, -88.87191\n",
    "# Same - 75 blocks\n",
    "# m1, c1 = 0.6515, 150.83251\n",
    "# m2, c2 = 0.65973, -88.76217\n",
    "\n",
    "\n",
    "def pixel_to_world(px, py):\n",
    "    return mx1 * px + my1 * py + c1, mx2 * px + my2 * py + c2  # m1 * px + c1, m2 * py + c2 - old using no rotation assumption"
   ],
   "outputs": [],
   "execution_count": 13
  },
  {
   "cell_type": "code",
   "id": "7852601589b8a420",
   "metadata": {
    "ExecuteTime": {
     "end_time": "2024-08-10T03:58:30.285754Z",
     "start_time": "2024-08-10T03:57:45.297457Z"
    }
   },
   "source": [
    "point = None\n",
    "while True:\n",
    "    if point is not None:\n",
    "        rx, ry = pixel_to_world(point[0], point[1])\n",
    "        print(\"Pixel: \", point)\n",
    "        print(f\"World: ({rx}, {ry})\")\n",
    "        if arm.pickup_block_from(rx, ry, z=25):\n",
    "            arm.place_block_on()\n",
    "        point = None\n",
    "\n",
    "    ret, frame = cap.read()\n",
    "    cv2.imshow(\"Video\", frame)\n",
    "    if cv2.waitKey(1) & 0xFF == ord('q'):\n",
    "        break"
   ],
   "outputs": [
    {
     "name": "stdout",
     "output_type": "stream",
     "text": [
      "Pixel:  (171, 166)\n",
      "World: (257.4807552791, 20.285006389399996)\n",
      "Pixel:  (176, 167)\n",
      "World: (260.8545552344, 20.818623242300006)\n"
     ]
    }
   ],
   "execution_count": 16
  },
  {
   "cell_type": "code",
   "id": "cd6d86ff69fb3ac3",
   "metadata": {
    "ExecuteTime": {
     "end_time": "2024-08-10T03:58:36.554735Z",
     "start_time": "2024-08-10T03:58:33.243331Z"
    }
   },
   "source": [
    "arm.disconnect()\n",
    "cap.release()\n",
    "cv2.destroyAllWindows()"
   ],
   "outputs": [],
   "execution_count": 17
  }
 ],
 "metadata": {
  "kernelspec": {
   "display_name": "Python 3 (ipykernel)",
   "language": "python",
   "name": "python3"
  },
  "language_info": {
   "codemirror_mode": {
    "name": "ipython",
    "version": 3
   },
   "file_extension": ".py",
   "mimetype": "text/x-python",
   "name": "python",
   "nbconvert_exporter": "python",
   "pygments_lexer": "ipython3",
   "version": "3.12.4"
  }
 },
 "nbformat": 4,
 "nbformat_minor": 5
}
