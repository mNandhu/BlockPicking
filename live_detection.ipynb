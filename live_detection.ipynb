{
 "cells": [
  {
   "metadata": {},
   "cell_type": "markdown",
   "source": "# Importing Libraries",
   "id": "194bf2d43ffa6322"
  },
  {
   "cell_type": "code",
   "id": "initial_id",
   "metadata": {
    "collapsed": true,
    "ExecuteTime": {
     "end_time": "2024-08-16T14:44:37.098961Z",
     "start_time": "2024-08-16T14:44:37.094931Z"
    }
   },
   "source": [
    "from utils import ArmHandler\n",
    "from ultralytics import YOLO\n",
    "\n",
    "import random\n",
    "import time\n",
    "import cv2\n",
    "import math\n",
    "\n",
    "arm = ArmHandler()  # Initialize the arm handler"
   ],
   "outputs": [],
   "execution_count": 7
  },
  {
   "metadata": {},
   "cell_type": "markdown",
   "source": "# Start Video Capture",
   "id": "20f6b66b6babe8de"
  },
  {
   "metadata": {
    "ExecuteTime": {
     "end_time": "2024-08-16T14:44:41.995994Z",
     "start_time": "2024-08-16T14:44:37.123324Z"
    }
   },
   "cell_type": "code",
   "source": [
    "cap = cv2.VideoCapture(0)\n",
    "cap.set(3, 640)\n",
    "cap.set(4, 480)\n",
    "cv2.namedWindow(\"Webcam\")\n",
    "model = YOLO(\"yolo_models/best.torchscript\", task=\"detect\")"
   ],
   "id": "1d3c43d353ddb772",
   "outputs": [],
   "execution_count": 8
  },
  {
   "metadata": {},
   "cell_type": "markdown",
   "source": "# Set the pixel to world coordinate conversion",
   "id": "67838f32e92dab37"
  },
  {
   "metadata": {
    "ExecuteTime": {
     "end_time": "2024-08-16T14:44:42.000590Z",
     "start_time": "2024-08-16T14:44:41.996999Z"
    }
   },
   "cell_type": "code",
   "source": [
    "# m1, c1 = 0.6515, 150.83251  \n",
    "# m2, c2 = 0.65973, -88.76217\n",
    "\n",
    "mx1, my1, c1 = 0.6695190945, 0.0262044828, 138.6430459748 # Get these values after coordinate calibration\n",
    "mx2, my2, c2 = -0.0251056056, 0.6591448809, -84.8399852824\n",
    "\n",
    "\n",
    "def pixel_to_world(px, py):\n",
    "    return mx1 * px + my1 * py + c1, mx2 * px + my2 * py + c2"
   ],
   "id": "4a67604741eb8f0b",
   "outputs": [],
   "execution_count": 9
  },
  {
   "metadata": {},
   "cell_type": "markdown",
   "source": "# Live Detection",
   "id": "d677967498108d79"
  },
  {
   "metadata": {
    "ExecuteTime": {
     "end_time": "2024-08-16T14:45:05.554504Z",
     "start_time": "2024-08-16T14:44:42.001601Z"
    }
   },
   "cell_type": "code",
   "source": [
    "last_execution = None\n",
    "\n",
    "while True:\n",
    "    success, img = cap.read()\n",
    "    results = model(img)\n",
    "\n",
    "    # coordinates\n",
    "    for r in results:\n",
    "        boxes = r.boxes\n",
    "        centeroids = []\n",
    "\n",
    "        for box in boxes:\n",
    "            confidence: float = math.ceil((box.conf[0] * 100)) / 100\n",
    "            if confidence < 0.9:\n",
    "                continue\n",
    "\n",
    "            x1, y1, x2, y2 = map(int, box.xyxy[0])\n",
    "\n",
    "            cv2.rectangle(img, (x1, y1), (x2, y2), (0, 255, 0), 3)\n",
    "\n",
    "            # Find center of the box\n",
    "            center_x = int((x1 + x2) / 2)\n",
    "            center_y = int((y1 + y2) / 2)\n",
    "\n",
    "            centeroids.append((center_x, center_y))\n",
    "\n",
    "            cv2.putText(img, str(confidence), [x1, y1], cv2.FONT_HERSHEY_SIMPLEX, 1, (255, 0, 0), 2)\n",
    "            cv2.circle(img, (center_x, center_y), 5, (0, 0, 255), -1)\n",
    "\n",
    "        if centeroids and (last_execution is None or time.time() - last_execution > 15):\n",
    "            last_execution = time.time()\n",
    "            # px, py = sorted(centeroids, key=lambda x: x[0], reverse=True)[0] # If you want to sort from the highest (Ry)\n",
    "            px, py = random.choice(centeroids)\n",
    "            rx, ry = pixel_to_world(py, px)\n",
    "            if arm.pickup_block_from(rx, ry):\n",
    "                arm.place_block_on()\n",
    "                # time.sleep(20)\n",
    "    cv2.imshow('Webcam', img)\n",
    "    if cv2.waitKey(1) == ord('q'):\n",
    "        break"
   ],
   "id": "26c8695af32a7c56",
   "outputs": [
    {
     "name": "stdout",
     "output_type": "stream",
     "text": [
      "Loading yolo_models\\best.torchscript for TorchScript inference...\n",
      "\n",
      "0: 640x640 300 colorful-cubes, 728.7ms\n",
      "Speed: 5.0ms preprocess, 728.7ms inference, 70.5ms postprocess per image at shape (1, 3, 640, 640)\n",
      "Sleeping\n",
      "\n",
      "0: 640x640 300 colorful-cubes, 473.2ms\n",
      "Speed: 4.0ms preprocess, 473.2ms inference, 53.3ms postprocess per image at shape (1, 3, 640, 640)\n",
      "Sleeping\n"
     ]
    }
   ],
   "execution_count": 10
  },
  {
   "metadata": {},
   "cell_type": "markdown",
   "source": "# Release the resources",
   "id": "79424d4a966f0586"
  },
  {
   "metadata": {
    "ExecuteTime": {
     "end_time": "2024-08-16T14:45:05.857149Z",
     "start_time": "2024-08-16T14:45:05.555513Z"
    }
   },
   "cell_type": "code",
   "source": [
    "cap.release()\n",
    "cv2.destroyAllWindows()\n",
    "# arm.disconnect()"
   ],
   "id": "7a0fc93b3bf87ef6",
   "outputs": [],
   "execution_count": 11
  }
 ],
 "metadata": {
  "kernelspec": {
   "display_name": "Python 3",
   "language": "python",
   "name": "python3"
  },
  "language_info": {
   "codemirror_mode": {
    "name": "ipython",
    "version": 2
   },
   "file_extension": ".py",
   "mimetype": "text/x-python",
   "name": "python",
   "nbconvert_exporter": "python",
   "pygments_lexer": "ipython2",
   "version": "2.7.6"
  }
 },
 "nbformat": 4,
 "nbformat_minor": 5
}
