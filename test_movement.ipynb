{
 "cells": [
  {
   "metadata": {},
   "cell_type": "markdown",
   "source": "# Initialize Everything",
   "id": "5470ab140c1755d6"
  },
  {
   "cell_type": "code",
   "id": "initial_id",
   "metadata": {
    "collapsed": true,
    "ExecuteTime": {
     "end_time": "2024-08-09T06:24:23.914700Z",
     "start_time": "2024-08-09T06:24:23.865330Z"
    }
   },
   "source": [
    "from xarm.wrapper import XArmAPI\n",
    "from time import sleep\n",
    "arm = XArmAPI('192.168.1.155')\n",
    "arm.motion_enable(enable=True)\n",
    "arm.set_mode(0)\n",
    "arm.set_state(0)\n",
    "arm.connect()\n",
    "arm.move_gohome()"
   ],
   "outputs": [
    {
     "name": "stdout",
     "output_type": "stream",
     "text": [
      "ROBOT_IP: 192.168.1.155, VERSION: v2.2.0, PROTOCOL: V1, DETAIL: 6,9,LI1006,DL1000,v2.2.0, TYPE1300: [0, 0]\n",
      "change protocol identifier to 3\n",
      "[motion_enable], xArm is not ready to move\n",
      "[set_state], xArm is ready to move\n"
     ]
    },
    {
     "data": {
      "text/plain": [
       "0"
      ]
     },
     "execution_count": 5,
     "metadata": {},
     "output_type": "execute_result"
    }
   ],
   "execution_count": 5
  },
  {
   "metadata": {},
   "cell_type": "markdown",
   "source": "# Block Pickup",
   "id": "f0873a87143f9be6"
  },
  {
   "metadata": {
    "ExecuteTime": {
     "end_time": "2024-08-09T06:24:25.344669Z",
     "start_time": "2024-08-09T06:24:25.337918Z"
    }
   },
   "cell_type": "code",
   "source": [
    "# x,y,z = 225, -95, 87\n",
    "x,y,z = 0,300,100\n",
    "arm.set_position(x=x, y=y, z=z, roll=180, pitch=0, yaw=0)"
   ],
   "id": "507002e14303aa8a",
   "outputs": [
    {
     "data": {
      "text/plain": [
       "0"
      ]
     },
     "execution_count": 6,
     "metadata": {},
     "output_type": "execute_result"
    }
   ],
   "execution_count": 6
  },
  {
   "metadata": {
    "ExecuteTime": {
     "end_time": "2024-08-08T08:49:16.314581Z",
     "start_time": "2024-08-08T08:49:16.299947Z"
    }
   },
   "cell_type": "code",
   "source": "arm.set_suction_cup(False)",
   "id": "bf66a1e5ddc57923",
   "outputs": [
    {
     "data": {
      "text/plain": [
       "0"
      ]
     },
     "execution_count": 103,
     "metadata": {},
     "output_type": "execute_result"
    }
   ],
   "execution_count": 103
  },
  {
   "metadata": {
    "ExecuteTime": {
     "end_time": "2024-08-08T03:59:30.533496Z",
     "start_time": "2024-08-08T03:59:29.521346Z"
    }
   },
   "cell_type": "code",
   "source": [
    "arm.set_suction_cup(True)\n",
    "arm.set_position(x=x, y=y, z=z - 2, roll=180, pitch=0, yaw=0)\n",
    "sleep(1)\n",
    "arm.move_gohome()"
   ],
   "id": "cb80be3de6754222",
   "outputs": [
    {
     "data": {
      "text/plain": [
       "0"
      ]
     },
     "execution_count": 39,
     "metadata": {},
     "output_type": "execute_result"
    }
   ],
   "execution_count": 39
  },
  {
   "metadata": {},
   "cell_type": "markdown",
   "source": "# Place Block",
   "id": "b544b0ddd339967b"
  },
  {
   "metadata": {
    "ExecuteTime": {
     "end_time": "2024-08-08T06:43:59.820319Z",
     "start_time": "2024-08-08T06:43:59.813321Z"
    }
   },
   "cell_type": "code",
   "source": [
    "x,y,z = 250, 0, 10\n",
    "arm.set_position(x=x, y=y, z=z, roll=180, pitch=0, yaw=0)\n",
    "# arm.set_suction_cup(False)\n",
    "# arm.move_gohome()"
   ],
   "id": "d346c10c2938e50f",
   "outputs": [
    {
     "data": {
      "text/plain": [
       "0"
      ]
     },
     "execution_count": 12,
     "metadata": {},
     "output_type": "execute_result"
    }
   ],
   "execution_count": 12
  },
  {
   "metadata": {},
   "cell_type": "markdown",
   "source": "# EOP",
   "id": "3ae29ac2f87ff570"
  },
  {
   "metadata": {
    "ExecuteTime": {
     "end_time": "2024-08-08T08:37:13.504521Z",
     "start_time": "2024-08-08T08:37:07.518273Z"
    }
   },
   "cell_type": "code",
   "source": [
    "arm.set_suction_cup(False)\n",
    "sleep(5)\n",
    "arm.move_gohome()\n",
    "arm.disconnect()"
   ],
   "id": "125383d123b1ddd4",
   "outputs": [],
   "execution_count": 77
  }
 ],
 "metadata": {
  "kernelspec": {
   "display_name": "Python 3",
   "language": "python",
   "name": "python3"
  },
  "language_info": {
   "codemirror_mode": {
    "name": "ipython",
    "version": 2
   },
   "file_extension": ".py",
   "mimetype": "text/x-python",
   "name": "python",
   "nbconvert_exporter": "python",
   "pygments_lexer": "ipython2",
   "version": "2.7.6"
  }
 },
 "nbformat": 4,
 "nbformat_minor": 5
}
