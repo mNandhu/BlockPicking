{
 "cells": [
  {
   "metadata": {},
   "cell_type": "markdown",
   "source": "# Initialize Everything",
   "id": "5470ab140c1755d6"
  },
  {
   "cell_type": "code",
   "id": "initial_id",
   "metadata": {
    "collapsed": true,
    "ExecuteTime": {
     "end_time": "2024-08-12T09:59:48.513034Z",
     "start_time": "2024-08-12T09:59:36.305957Z"
    }
   },
   "source": [
    "from xarm.wrapper import XArmAPI\n",
    "from time import sleep\n",
    "arm = XArmAPI('192.168.1.155')\n",
    "arm.motion_enable(enable=True)\n",
    "arm.set_mode(0)\n",
    "arm.set_state(0)\n",
    "arm.connect()\n",
    "arm.move_gohome()"
   ],
   "outputs": [
    {
     "name": "stdout",
     "output_type": "stream",
     "text": [
      "[SDK][ERROR][2024-08-12 15:29:36][base.py:293] - - [main-socket] recv error: [WinError 10053] An established connection was aborted by the software in your host machine\n",
      "[SDK][ERROR][2024-08-12 15:29:36][base.py:176] - - [report-socket] socket read failed, len=0\n",
      "[SDK][ERROR][2024-08-12 15:29:38][decorator.py:39] - - xArm is not connected\n",
      "[SDK][ERROR][2024-08-12 15:29:38][decorator.py:39] - - xArm is not connected\n",
      "[SDK][ERROR][2024-08-12 15:29:38][decorator.py:39] - - xArm is not connected\n",
      "[SDK][ERROR][2024-08-12 15:29:38][decorator.py:39] - - xArm is not connected\n",
      "[SDK][ERROR][2024-08-12 15:29:38][decorator.py:39] - - xArm is not connected\n",
      "[SDK][ERROR][2024-08-12 15:29:38][decorator.py:39] - - xArm is not connected\n",
      "[SDK][ERROR][2024-08-12 15:29:38][decorator.py:39] - - xArm is not connected\n",
      "[SDK][ERROR][2024-08-12 15:29:39][decorator.py:39] - - xArm is not connected\n",
      "[SDK][ERROR][2024-08-12 15:29:39][decorator.py:39] - - xArm is not connected\n",
      "[SDK][ERROR][2024-08-12 15:29:39][decorator.py:39] - - xArm is not connected\n",
      "[SDK][ERROR][2024-08-12 15:29:39][decorator.py:39] - - xArm is not connected\n",
      "[SDK][ERROR][2024-08-12 15:29:39][decorator.py:39] - - xArm is not connected\n",
      "[SDK][ERROR][2024-08-12 15:29:39][decorator.py:39] - - xArm is not connected\n",
      "[SDK][ERROR][2024-08-12 15:29:39][decorator.py:39] - - xArm is not connected\n",
      "[SDK][ERROR][2024-08-12 15:29:39][decorator.py:39] - - xArm is not connected\n",
      "[SDK][ERROR][2024-08-12 15:29:39][decorator.py:39] - - xArm is not connected\n",
      "[SDK][ERROR][2024-08-12 15:29:39][decorator.py:39] - - xArm is not connected\n",
      "[SDK][ERROR][2024-08-12 15:29:40][decorator.py:39] - - xArm is not connected\n",
      "[SDK][ERROR][2024-08-12 15:29:40][decorator.py:39] - - xArm is not connected\n",
      "[SDK][ERROR][2024-08-12 15:29:40][decorator.py:39] - - xArm is not connected\n",
      "[SDK][ERROR][2024-08-12 15:29:40][decorator.py:39] - - xArm is not connected\n",
      "[SDK][ERROR][2024-08-12 15:29:40][decorator.py:39] - - xArm is not connected\n",
      "[SDK][ERROR][2024-08-12 15:29:40][decorator.py:39] - - xArm is not connected\n",
      "[SDK][ERROR][2024-08-12 15:29:40][decorator.py:39] - - xArm is not connected\n",
      "[SDK][ERROR][2024-08-12 15:29:40][decorator.py:39] - - xArm is not connected\n",
      "[SDK][ERROR][2024-08-12 15:29:40][decorator.py:39] - - xArm is not connected\n",
      "[SDK][ERROR][2024-08-12 15:29:40][decorator.py:39] - - xArm is not connected\n",
      "[SDK][ERROR][2024-08-12 15:29:41][decorator.py:39] - - xArm is not connected\n",
      "[SDK][ERROR][2024-08-12 15:29:41][decorator.py:39] - - xArm is not connected\n",
      "[SDK][ERROR][2024-08-12 15:29:41][decorator.py:39] - - xArm is not connected\n",
      "[SDK][ERROR][2024-08-12 15:29:41][decorator.py:39] - - xArm is not connected\n",
      "[SDK][ERROR][2024-08-12 15:29:41][decorator.py:39] - - xArm is not connected\n",
      "[SDK][ERROR][2024-08-12 15:29:41][decorator.py:39] - - xArm is not connected\n",
      "[SDK][ERROR][2024-08-12 15:29:41][decorator.py:39] - - xArm is not connected\n",
      "[SDK][ERROR][2024-08-12 15:29:41][decorator.py:39] - - xArm is not connected\n",
      "[SDK][ERROR][2024-08-12 15:29:41][decorator.py:39] - - xArm is not connected\n",
      "[SDK][ERROR][2024-08-12 15:29:41][decorator.py:39] - - xArm is not connected\n",
      "[SDK][ERROR][2024-08-12 15:29:42][decorator.py:39] - - xArm is not connected\n",
      "[SDK][ERROR][2024-08-12 15:29:42][decorator.py:39] - - xArm is not connected\n",
      "[SDK][ERROR][2024-08-12 15:29:42][decorator.py:39] - - xArm is not connected\n",
      "[SDK][ERROR][2024-08-12 15:29:42][decorator.py:39] - - xArm is not connected\n",
      "[SDK][ERROR][2024-08-12 15:29:42][decorator.py:39] - - xArm is not connected\n",
      "[SDK][ERROR][2024-08-12 15:29:42][decorator.py:39] - - xArm is not connected\n",
      "[SDK][ERROR][2024-08-12 15:29:42][decorator.py:39] - - xArm is not connected\n",
      "[SDK][ERROR][2024-08-12 15:29:42][decorator.py:39] - - xArm is not connected\n",
      "[SDK][ERROR][2024-08-12 15:29:42][decorator.py:39] - - xArm is not connected\n",
      "[SDK][ERROR][2024-08-12 15:29:42][decorator.py:39] - - xArm is not connected\n",
      "[SDK][ERROR][2024-08-12 15:29:43][decorator.py:39] - - xArm is not connected\n",
      "[SDK][ERROR][2024-08-12 15:29:43][decorator.py:39] - - xArm is not connected\n",
      "[SDK][ERROR][2024-08-12 15:29:43][decorator.py:39] - - xArm is not connected\n",
      "[SDK][ERROR][2024-08-12 15:29:43][decorator.py:39] - - xArm is not connected\n",
      "[SDK][ERROR][2024-08-12 15:29:43][decorator.py:39] - - xArm is not connected\n",
      "[SDK][ERROR][2024-08-12 15:29:43][decorator.py:39] - - xArm is not connected\n",
      "[SDK][ERROR][2024-08-12 15:29:43][decorator.py:39] - - xArm is not connected\n",
      "[SDK][ERROR][2024-08-12 15:29:43][decorator.py:39] - - xArm is not connected\n",
      "[SDK][ERROR][2024-08-12 15:29:43][decorator.py:39] - - xArm is not connected\n",
      "[SDK][ERROR][2024-08-12 15:29:43][decorator.py:39] - - xArm is not connected\n",
      "[SDK][ERROR][2024-08-12 15:29:44][decorator.py:39] - - xArm is not connected\n",
      "[SDK][ERROR][2024-08-12 15:29:44][decorator.py:39] - - xArm is not connected\n",
      "[SDK][ERROR][2024-08-12 15:29:44][decorator.py:39] - - xArm is not connected\n",
      "[SDK][ERROR][2024-08-12 15:29:44][decorator.py:39] - - xArm is not connected\n",
      "[SDK][ERROR][2024-08-12 15:29:44][decorator.py:39] - - xArm is not connected\n",
      "[SDK][ERROR][2024-08-12 15:29:44][decorator.py:39] - - xArm is not connected\n",
      "[SDK][ERROR][2024-08-12 15:29:44][decorator.py:39] - - xArm is not connected\n",
      "[SDK][ERROR][2024-08-12 15:29:44][decorator.py:39] - - xArm is not connected\n",
      "[SDK][ERROR][2024-08-12 15:29:44][decorator.py:39] - - xArm is not connected\n",
      "[SDK][ERROR][2024-08-12 15:29:45][decorator.py:39] - - xArm is not connected\n",
      "[SDK][ERROR][2024-08-12 15:29:45][decorator.py:39] - - xArm is not connected\n",
      "[SDK][ERROR][2024-08-12 15:29:45][decorator.py:39] - - xArm is not connected\n",
      "[SDK][ERROR][2024-08-12 15:29:45][decorator.py:39] - - xArm is not connected\n",
      "[SDK][ERROR][2024-08-12 15:29:45][decorator.py:39] - - xArm is not connected\n",
      "[SDK][ERROR][2024-08-12 15:29:45][decorator.py:39] - - xArm is not connected\n",
      "[SDK][ERROR][2024-08-12 15:29:45][decorator.py:39] - - xArm is not connected\n",
      "[SDK][ERROR][2024-08-12 15:29:45][decorator.py:39] - - xArm is not connected\n",
      "[SDK][ERROR][2024-08-12 15:29:45][decorator.py:39] - - xArm is not connected\n",
      "[SDK][ERROR][2024-08-12 15:29:45][decorator.py:39] - - xArm is not connected\n",
      "[SDK][ERROR][2024-08-12 15:29:46][decorator.py:39] - - xArm is not connected\n",
      "[SDK][ERROR][2024-08-12 15:29:46][decorator.py:39] - - xArm is not connected\n",
      "[SDK][ERROR][2024-08-12 15:29:46][decorator.py:39] - - xArm is not connected\n",
      "[SDK][ERROR][2024-08-12 15:29:46][decorator.py:39] - - xArm is not connected\n",
      "[SDK][ERROR][2024-08-12 15:29:46][decorator.py:39] - - xArm is not connected\n",
      "[SDK][ERROR][2024-08-12 15:29:46][decorator.py:39] - - xArm is not connected\n",
      "[SDK][ERROR][2024-08-12 15:29:46][decorator.py:39] - - xArm is not connected\n",
      "[SDK][ERROR][2024-08-12 15:29:46][decorator.py:39] - - xArm is not connected\n",
      "[SDK][ERROR][2024-08-12 15:29:46][decorator.py:39] - - xArm is not connected\n",
      "[SDK][ERROR][2024-08-12 15:29:46][decorator.py:39] - - xArm is not connected\n",
      "[SDK][ERROR][2024-08-12 15:29:47][decorator.py:39] - - xArm is not connected\n",
      "[SDK][ERROR][2024-08-12 15:29:47][decorator.py:39] - - xArm is not connected\n",
      "[SDK][ERROR][2024-08-12 15:29:47][decorator.py:39] - - xArm is not connected\n",
      "[SDK][ERROR][2024-08-12 15:29:47][decorator.py:39] - - xArm is not connected\n",
      "[SDK][ERROR][2024-08-12 15:29:47][decorator.py:39] - - xArm is not connected\n",
      "[SDK][ERROR][2024-08-12 15:29:47][decorator.py:39] - - xArm is not connected\n",
      "[SDK][ERROR][2024-08-12 15:29:47][decorator.py:39] - - xArm is not connected\n",
      "[SDK][ERROR][2024-08-12 15:29:47][decorator.py:39] - - xArm is not connected\n",
      "[SDK][ERROR][2024-08-12 15:29:47][decorator.py:39] - - xArm is not connected\n",
      "[SDK][ERROR][2024-08-12 15:29:47][decorator.py:39] - - xArm is not connected\n",
      "[SDK][ERROR][2024-08-12 15:29:48][decorator.py:39] - - xArm is not connected\n",
      "[SDK][ERROR][2024-08-12 15:29:48][decorator.py:39] - - xArm is not connected\n",
      "[SDK][ERROR][2024-08-12 15:29:48][decorator.py:39] - - xArm is not connected\n",
      "[SDK][ERROR][2024-08-12 15:29:48][decorator.py:39] - - xArm is not connected\n",
      "[SDK][ERROR][2024-08-12 15:29:48][base.py:379] - - failed to get version\n"
     ]
    },
    {
     "ename": "Exception",
     "evalue": "failed to check version, close",
     "output_type": "error",
     "traceback": [
      "\u001B[1;31m---------------------------------------------------------------------------\u001B[0m",
      "\u001B[1;31mException\u001B[0m                                 Traceback (most recent call last)",
      "Cell \u001B[1;32mIn[98], line 3\u001B[0m\n\u001B[0;32m      1\u001B[0m \u001B[38;5;28;01mfrom\u001B[39;00m \u001B[38;5;21;01mxarm\u001B[39;00m\u001B[38;5;21;01m.\u001B[39;00m\u001B[38;5;21;01mwrapper\u001B[39;00m \u001B[38;5;28;01mimport\u001B[39;00m XArmAPI\n\u001B[0;32m      2\u001B[0m \u001B[38;5;28;01mfrom\u001B[39;00m \u001B[38;5;21;01mtime\u001B[39;00m \u001B[38;5;28;01mimport\u001B[39;00m sleep\n\u001B[1;32m----> 3\u001B[0m arm \u001B[38;5;241m=\u001B[39m \u001B[43mXArmAPI\u001B[49m\u001B[43m(\u001B[49m\u001B[38;5;124;43m'\u001B[39;49m\u001B[38;5;124;43m192.168.1.155\u001B[39;49m\u001B[38;5;124;43m'\u001B[39;49m\u001B[43m)\u001B[49m\n\u001B[0;32m      4\u001B[0m arm\u001B[38;5;241m.\u001B[39mmotion_enable(enable\u001B[38;5;241m=\u001B[39m\u001B[38;5;28;01mTrue\u001B[39;00m)\n\u001B[0;32m      5\u001B[0m arm\u001B[38;5;241m.\u001B[39mset_mode(\u001B[38;5;241m0\u001B[39m)\n",
      "File \u001B[1;32mG:\\Projects\\BlockPicking\\.venv\\Lib\\site-packages\\xarm\\wrapper\\xarm_api.py:83\u001B[0m, in \u001B[0;36mXArmAPI.__init__\u001B[1;34m(self, port, is_radian, do_not_open, **kwargs)\u001B[0m\n\u001B[0;32m     13\u001B[0m \u001B[38;5;28;01mdef\u001B[39;00m \u001B[38;5;21m__init__\u001B[39m(\u001B[38;5;28mself\u001B[39m, port\u001B[38;5;241m=\u001B[39m\u001B[38;5;28;01mNone\u001B[39;00m, is_radian\u001B[38;5;241m=\u001B[39m\u001B[38;5;28;01mFalse\u001B[39;00m, do_not_open\u001B[38;5;241m=\u001B[39m\u001B[38;5;28;01mFalse\u001B[39;00m, \u001B[38;5;241m*\u001B[39m\u001B[38;5;241m*\u001B[39mkwargs):\n\u001B[0;32m     14\u001B[0m \u001B[38;5;250m    \u001B[39m\u001B[38;5;124;03m\"\"\"\u001B[39;00m\n\u001B[0;32m     15\u001B[0m \u001B[38;5;124;03m    The API wrapper of xArm\u001B[39;00m\n\u001B[0;32m     16\u001B[0m \u001B[38;5;124;03m    Note: Orientation of attitude angle\u001B[39;00m\n\u001B[1;32m   (...)\u001B[0m\n\u001B[0;32m     81\u001B[0m \u001B[38;5;124;03m            Note: only available if firmware_version < 1.5.20\u001B[39;00m\n\u001B[0;32m     82\u001B[0m \u001B[38;5;124;03m    \"\"\"\u001B[39;00m\n\u001B[1;32m---> 83\u001B[0m     \u001B[38;5;28mself\u001B[39m\u001B[38;5;241m.\u001B[39m_arm \u001B[38;5;241m=\u001B[39m \u001B[43mXArm\u001B[49m\u001B[43m(\u001B[49m\u001B[43mport\u001B[49m\u001B[38;5;241;43m=\u001B[39;49m\u001B[43mport\u001B[49m\u001B[43m,\u001B[49m\n\u001B[0;32m     84\u001B[0m \u001B[43m                     \u001B[49m\u001B[43mis_radian\u001B[49m\u001B[38;5;241;43m=\u001B[39;49m\u001B[43mis_radian\u001B[49m\u001B[43m,\u001B[49m\n\u001B[0;32m     85\u001B[0m \u001B[43m                     \u001B[49m\u001B[43mdo_not_open\u001B[49m\u001B[38;5;241;43m=\u001B[39;49m\u001B[43mdo_not_open\u001B[49m\u001B[43m,\u001B[49m\n\u001B[0;32m     86\u001B[0m \u001B[43m                     \u001B[49m\u001B[43minstance\u001B[49m\u001B[38;5;241;43m=\u001B[39;49m\u001B[38;5;28;43mself\u001B[39;49m\u001B[43m,\u001B[49m\n\u001B[0;32m     87\u001B[0m \u001B[43m                     \u001B[49m\u001B[38;5;241;43m*\u001B[39;49m\u001B[38;5;241;43m*\u001B[39;49m\u001B[43mkwargs\u001B[49m\u001B[43m)\u001B[49m\n\u001B[0;32m     88\u001B[0m     \u001B[38;5;28mself\u001B[39m\u001B[38;5;241m.\u001B[39m_studio \u001B[38;5;241m=\u001B[39m Studio(port, \u001B[38;5;28;01mTrue\u001B[39;00m)\n\u001B[0;32m     89\u001B[0m     \u001B[38;5;28mself\u001B[39m\u001B[38;5;241m.\u001B[39m__attr_alias_map \u001B[38;5;241m=\u001B[39m {\n\u001B[0;32m     90\u001B[0m         \u001B[38;5;124m'\u001B[39m\u001B[38;5;124mget_ik\u001B[39m\u001B[38;5;124m'\u001B[39m: \u001B[38;5;28mself\u001B[39m\u001B[38;5;241m.\u001B[39mget_inverse_kinematics,\n\u001B[0;32m     91\u001B[0m         \u001B[38;5;124m'\u001B[39m\u001B[38;5;124mget_fk\u001B[39m\u001B[38;5;124m'\u001B[39m: \u001B[38;5;28mself\u001B[39m\u001B[38;5;241m.\u001B[39mget_forward_kinematics,\n\u001B[1;32m   (...)\u001B[0m\n\u001B[0;32m    103\u001B[0m         \u001B[38;5;124m'\u001B[39m\u001B[38;5;124mshutdown_system\u001B[39m\u001B[38;5;124m'\u001B[39m: \u001B[38;5;28mself\u001B[39m\u001B[38;5;241m.\u001B[39msystem_control,\n\u001B[0;32m    104\u001B[0m     }\n",
      "File \u001B[1;32mG:\\Projects\\BlockPicking\\.venv\\Lib\\site-packages\\xarm\\x3\\xarm.py:46\u001B[0m, in \u001B[0;36mXArm.__init__\u001B[1;34m(self, port, is_radian, do_not_open, instance, **kwargs)\u001B[0m\n\u001B[0;32m     44\u001B[0m kwargs[\u001B[38;5;124m'\u001B[39m\u001B[38;5;124minit\u001B[39m\u001B[38;5;124m'\u001B[39m] \u001B[38;5;241m=\u001B[39m \u001B[38;5;28;01mTrue\u001B[39;00m\n\u001B[0;32m     45\u001B[0m \u001B[38;5;28mself\u001B[39m\u001B[38;5;241m.\u001B[39m_api_instance \u001B[38;5;241m=\u001B[39m instance\n\u001B[1;32m---> 46\u001B[0m \u001B[43mBase\u001B[49m\u001B[38;5;241;43m.\u001B[39;49m\u001B[38;5;21;43m__init__\u001B[39;49m\u001B[43m(\u001B[49m\u001B[38;5;28;43mself\u001B[39;49m\u001B[43m,\u001B[49m\u001B[43m \u001B[49m\u001B[43mport\u001B[49m\u001B[43m,\u001B[49m\u001B[43m \u001B[49m\u001B[43mis_radian\u001B[49m\u001B[43m,\u001B[49m\u001B[43m \u001B[49m\u001B[43mdo_not_open\u001B[49m\u001B[43m,\u001B[49m\u001B[43m \u001B[49m\u001B[38;5;241;43m*\u001B[39;49m\u001B[38;5;241;43m*\u001B[39;49m\u001B[43mkwargs\u001B[49m\u001B[43m)\u001B[49m\n",
      "File \u001B[1;32mG:\\Projects\\BlockPicking\\.venv\\Lib\\site-packages\\xarm\\x3\\base.py:244\u001B[0m, in \u001B[0;36mBase.__init__\u001B[1;34m(self, port, is_radian, do_not_open, **kwargs)\u001B[0m\n\u001B[0;32m    241\u001B[0m \u001B[38;5;28mself\u001B[39m\u001B[38;5;241m.\u001B[39m_fb_transid_result_map \u001B[38;5;241m=\u001B[39m {}\n\u001B[0;32m    243\u001B[0m \u001B[38;5;28;01mif\u001B[39;00m \u001B[38;5;129;01mnot\u001B[39;00m do_not_open:\n\u001B[1;32m--> 244\u001B[0m     \u001B[38;5;28;43mself\u001B[39;49m\u001B[38;5;241;43m.\u001B[39;49m\u001B[43mconnect\u001B[49m\u001B[43m(\u001B[49m\u001B[43m)\u001B[49m\n",
      "File \u001B[1;32mG:\\Projects\\BlockPicking\\.venv\\Lib\\site-packages\\xarm\\x3\\base.py:868\u001B[0m, in \u001B[0;36mBase.connect\u001B[1;34m(self, port, baudrate, timeout, axis, arm_type)\u001B[0m\n\u001B[0;32m    866\u001B[0m \u001B[38;5;28;01mif\u001B[39;00m \u001B[38;5;28mself\u001B[39m\u001B[38;5;241m.\u001B[39m_check_version(is_first\u001B[38;5;241m=\u001B[39m\u001B[38;5;28;01mTrue\u001B[39;00m) \u001B[38;5;241m<\u001B[39m \u001B[38;5;241m0\u001B[39m:\n\u001B[0;32m    867\u001B[0m     \u001B[38;5;28mself\u001B[39m\u001B[38;5;241m.\u001B[39mdisconnect()\n\u001B[1;32m--> 868\u001B[0m     \u001B[38;5;28;01mraise\u001B[39;00m \u001B[38;5;167;01mException\u001B[39;00m(\u001B[38;5;124m'\u001B[39m\u001B[38;5;124mfailed to check version, close\u001B[39m\u001B[38;5;124m'\u001B[39m)\n\u001B[0;32m    869\u001B[0m \u001B[38;5;28mself\u001B[39m\u001B[38;5;241m.\u001B[39m_support_feedback \u001B[38;5;241m=\u001B[39m \u001B[38;5;28mself\u001B[39m\u001B[38;5;241m.\u001B[39mversion_is_ge(\u001B[38;5;241m2\u001B[39m, \u001B[38;5;241m0\u001B[39m, \u001B[38;5;241m102\u001B[39m)\n\u001B[0;32m    870\u001B[0m \u001B[38;5;28mself\u001B[39m\u001B[38;5;241m.\u001B[39marm_cmd\u001B[38;5;241m.\u001B[39mset_debug(\u001B[38;5;28mself\u001B[39m\u001B[38;5;241m.\u001B[39m_debug)\n",
      "\u001B[1;31mException\u001B[0m: failed to check version, close"
     ]
    }
   ],
   "execution_count": 98
  },
  {
   "metadata": {},
   "cell_type": "markdown",
   "source": "# Block Pickup",
   "id": "f0873a87143f9be6"
  },
  {
   "metadata": {
    "ExecuteTime": {
     "end_time": "2024-08-12T09:59:27.829120Z",
     "start_time": "2024-08-12T09:59:27.822595Z"
    }
   },
   "cell_type": "code",
   "source": "arm.move_gohome()",
   "id": "7766a8d4850eb5a0",
   "outputs": [
    {
     "name": "stdout",
     "output_type": "stream",
     "text": [
      "[SDK][ERROR][2024-08-12 15:29:27][base.py:361] - - API -> move_gohome -> code=1, velo=0.3490658503988659, acc=8.726646259971648\n"
     ]
    },
    {
     "data": {
      "text/plain": [
       "1"
      ]
     },
     "execution_count": 97,
     "metadata": {},
     "output_type": "execute_result"
    }
   ],
   "execution_count": 97
  },
  {
   "metadata": {
    "ExecuteTime": {
     "end_time": "2024-08-12T09:59:19.224699Z",
     "start_time": "2024-08-12T09:59:19.219026Z"
    }
   },
   "cell_type": "code",
   "source": [
    "# x,y,z = 225, -95, 87\n",
    "x,y,z = 10,-5, 340\n",
    "arm.set_position(x=x, y=y, z=z, roll=180, pitch=0, yaw=0)"
   ],
   "id": "507002e14303aa8a",
   "outputs": [
    {
     "name": "stdout",
     "output_type": "stream",
     "text": [
      "[SDK][ERROR][2024-08-12 15:29:19][base.py:361] - - API -> set_position -> code=1, pos=[10.0, -5.0, 340.0, 3.141592653589793, 0.0, 0.0], radius=-1, velo=100.0, acc=2000\n"
     ]
    },
    {
     "data": {
      "text/plain": [
       "1"
      ]
     },
     "execution_count": 95,
     "metadata": {},
     "output_type": "execute_result"
    }
   ],
   "execution_count": 95
  },
  {
   "metadata": {
    "ExecuteTime": {
     "end_time": "2024-08-12T09:59:04.410744Z",
     "start_time": "2024-08-12T09:59:04.400456Z"
    }
   },
   "cell_type": "code",
   "source": "arm.set_suction_cup(False)",
   "id": "bf66a1e5ddc57923",
   "outputs": [
    {
     "name": "stdout",
     "output_type": "stream",
     "text": [
      "[SDK][ERROR][2024-08-12 15:29:04][base.py:361] - - API -> set_tgpio_digital(ionum=0, value=0) -> code=1\n",
      "[SDK][ERROR][2024-08-12 15:29:04][base.py:361] - - API -> set_tgpio_digital(ionum=1, value=1) -> code=1\n",
      "[SDK][ERROR][2024-08-12 15:29:04][base.py:361] - - API -> set_suction_cup(on=False, wait=False, delay_sec=None) -> code=1\n"
     ]
    },
    {
     "data": {
      "text/plain": [
       "1"
      ]
     },
     "execution_count": 93,
     "metadata": {},
     "output_type": "execute_result"
    }
   ],
   "execution_count": 93
  },
  {
   "metadata": {
    "ExecuteTime": {
     "end_time": "2024-08-08T03:59:30.533496Z",
     "start_time": "2024-08-08T03:59:29.521346Z"
    }
   },
   "cell_type": "code",
   "source": [
    "arm.set_suction_cup(True)\n",
    "arm.set_position(x=x, y=y, z=z - 2, roll=180, pitch=0, yaw=0)\n",
    "sleep(1)\n",
    "arm.move_gohome()"
   ],
   "id": "cb80be3de6754222",
   "outputs": [
    {
     "data": {
      "text/plain": [
       "0"
      ]
     },
     "execution_count": 39,
     "metadata": {},
     "output_type": "execute_result"
    }
   ],
   "execution_count": 39
  },
  {
   "metadata": {},
   "cell_type": "markdown",
   "source": "# Place Block",
   "id": "b544b0ddd339967b"
  },
  {
   "metadata": {
    "ExecuteTime": {
     "end_time": "2024-08-08T06:43:59.820319Z",
     "start_time": "2024-08-08T06:43:59.813321Z"
    }
   },
   "cell_type": "code",
   "source": [
    "x,y,z = 250, 0, 10\n",
    "arm.set_position(x=x, y=y, z=z, roll=180, pitch=0, yaw=0)\n",
    "# arm.set_suction_cup(False)\n",
    "# arm.move_gohome()"
   ],
   "id": "d346c10c2938e50f",
   "outputs": [
    {
     "data": {
      "text/plain": [
       "0"
      ]
     },
     "execution_count": 12,
     "metadata": {},
     "output_type": "execute_result"
    }
   ],
   "execution_count": 12
  },
  {
   "metadata": {},
   "cell_type": "markdown",
   "source": "# EOP",
   "id": "3ae29ac2f87ff570"
  },
  {
   "metadata": {
    "ExecuteTime": {
     "end_time": "2024-08-08T08:37:13.504521Z",
     "start_time": "2024-08-08T08:37:07.518273Z"
    }
   },
   "cell_type": "code",
   "source": [
    "arm.set_suction_cup(False)\n",
    "sleep(5)\n",
    "arm.move_gohome()\n",
    "arm.disconnect()"
   ],
   "id": "125383d123b1ddd4",
   "outputs": [],
   "execution_count": 77
  }
 ],
 "metadata": {
  "kernelspec": {
   "display_name": "Python 3",
   "language": "python",
   "name": "python3"
  },
  "language_info": {
   "codemirror_mode": {
    "name": "ipython",
    "version": 2
   },
   "file_extension": ".py",
   "mimetype": "text/x-python",
   "name": "python",
   "nbconvert_exporter": "python",
   "pygments_lexer": "ipython2",
   "version": "2.7.6"
  }
 },
 "nbformat": 4,
 "nbformat_minor": 5
}
